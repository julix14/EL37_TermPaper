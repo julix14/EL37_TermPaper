{
 "cells": [
  {
   "cell_type": "markdown",
   "metadata": {},
   "source": [
    "# Backpack Price Prediction using GradientBoostingRegressor\n",
    "## Problem Statement\n",
    "   This notebook demonstrates how to build a machine learning model to predict backpack prices based on various features such as brand, material, size, and other characteristics. We'll use GradientBoostingRegressor.\n",
    "### Objective\n",
    "   - Build a predictive model for backpack prices\n",
    "   - Evaluate model performance using RMSE\n",
    "   - Generate predictions for the test dataset"
   ]
  },
  {
   "cell_type": "markdown",
   "metadata": {},
   "source": [
    "## Data Preperation\n",
    "\n",
    "### Import Required Libraries\n",
    "We'll use the following libraries:\n",
    "- pandas & numpy: For data manipulation and numerical operations\n",
    "- scikit-learn: For machine learning models and preprocessing\n",
    "- matplotlib & seaborn: For data visualization\n",
    "- scipy.stats: For statistical analysis"
   ]
  },
  {
   "cell_type": "code",
   "execution_count": 39,
   "metadata": {
    "execution": {
     "iopub.execute_input": "2025-02-11T16:13:31.636129Z",
     "iopub.status.busy": "2025-02-11T16:13:31.63555Z",
     "iopub.status.idle": "2025-02-11T16:13:32.830234Z",
     "shell.execute_reply": "2025-02-11T16:13:32.829405Z",
     "shell.execute_reply.started": "2025-02-11T16:13:31.636082Z"
    },
    "trusted": true
   },
   "outputs": [],
   "source": [
    "\n",
    "import numpy as np \n",
    "import pandas as pd\n",
    "import os\n",
    "\n",
    "from sklearn.preprocessing import OrdinalEncoder\n",
    "from sklearn.model_selection import train_test_split\n",
    "from sklearn.linear_model import ElasticNet\n",
    "from sklearn.metrics import mean_squared_error, r2_score, mean_squared_error\n",
    "from sklearn.svm import SVR\n",
    "from sklearn.ensemble import GradientBoostingRegressor\n",
    "from sklearn.neural_network import MLPRegressor\n",
    "\n",
    "import pylab \n",
    "import scipy.stats as stats\n",
    "\n",
    "import matplotlib.pyplot as plt\n",
    "import seaborn as sns\n",
    "\n",
    "import xgboost as xgb \n"
   ]
  },
  {
   "cell_type": "markdown",
   "metadata": {},
   "source": [
    "## Data Loading\n",
    "\n",
    "### Load CSV Files\n",
    "We'll load three datasets:\n",
    " 1. Training data (`train.csv`): Contains labeled data with known prices\n",
    " 2. Test data (`test.csv`): Contains unlabeled data for predictions\n",
    "  3. Sample submission (`sample_submission.csv`): Template for submission format"
   ]
  },
  {
   "cell_type": "code",
   "execution_count": 40,
   "metadata": {
    "execution": {
     "iopub.execute_input": "2025-02-11T16:13:32.84185Z",
     "iopub.status.busy": "2025-02-11T16:13:32.841622Z",
     "iopub.status.idle": "2025-02-11T16:13:33.674999Z",
     "shell.execute_reply": "2025-02-11T16:13:33.673803Z",
     "shell.execute_reply.started": "2025-02-11T16:13:32.84183Z"
    },
    "trusted": true
   },
   "outputs": [],
   "source": [
    "train = pd.read_csv('input/train.csv')\n",
    "test = pd.read_csv('input/test.csv')\n",
    "submission = pd.read_csv('input/sample_submission.csv')"
   ]
  },
  {
   "cell_type": "code",
   "execution_count": null,
   "metadata": {
    "execution": {
     "iopub.execute_input": "2025-02-11T16:13:33.677407Z",
     "iopub.status.busy": "2025-02-11T16:13:33.676954Z",
     "iopub.status.idle": "2025-02-11T16:13:33.700239Z",
     "shell.execute_reply": "2025-02-11T16:13:33.699182Z",
     "shell.execute_reply.started": "2025-02-11T16:13:33.677368Z"
    },
    "trusted": true
   },
   "outputs": [],
   "source": [
    "train"
   ]
  },
  {
   "cell_type": "code",
   "execution_count": null,
   "metadata": {
    "execution": {
     "iopub.execute_input": "2025-02-11T16:13:33.701466Z",
     "iopub.status.busy": "2025-02-11T16:13:33.70114Z",
     "iopub.status.idle": "2025-02-11T16:13:33.828842Z",
     "shell.execute_reply": "2025-02-11T16:13:33.827846Z",
     "shell.execute_reply.started": "2025-02-11T16:13:33.701441Z"
    },
    "trusted": true
   },
   "outputs": [],
   "source": [
    "train.info()"
   ]
  },
  {
   "cell_type": "code",
   "execution_count": null,
   "metadata": {
    "execution": {
     "iopub.execute_input": "2025-02-11T16:13:33.829964Z",
     "iopub.status.busy": "2025-02-11T16:13:33.829687Z",
     "iopub.status.idle": "2025-02-11T16:13:33.946572Z",
     "shell.execute_reply": "2025-02-11T16:13:33.945472Z",
     "shell.execute_reply.started": "2025-02-11T16:13:33.829941Z"
    },
    "trusted": true
   },
   "outputs": [],
   "source": [
    "train.isna().sum()"
   ]
  },
  {
   "cell_type": "code",
   "execution_count": null,
   "metadata": {
    "execution": {
     "iopub.execute_input": "2025-02-11T16:13:33.948182Z",
     "iopub.status.busy": "2025-02-11T16:13:33.947767Z",
     "iopub.status.idle": "2025-02-11T16:13:34.086361Z",
     "shell.execute_reply": "2025-02-11T16:13:34.085282Z",
     "shell.execute_reply.started": "2025-02-11T16:13:33.94814Z"
    },
    "trusted": true
   },
   "outputs": [],
   "source": [
    "train.dropna(inplace=True)\n",
    "train.shape"
   ]
  },
  {
   "cell_type": "code",
   "execution_count": null,
   "metadata": {
    "execution": {
     "iopub.execute_input": "2025-02-11T16:13:34.089985Z",
     "iopub.status.busy": "2025-02-11T16:13:34.089673Z",
     "iopub.status.idle": "2025-02-11T16:13:34.106967Z",
     "shell.execute_reply": "2025-02-11T16:13:34.105666Z",
     "shell.execute_reply.started": "2025-02-11T16:13:34.089958Z"
    },
    "trusted": true
   },
   "outputs": [],
   "source": [
    "test"
   ]
  },
  {
   "cell_type": "code",
   "execution_count": null,
   "metadata": {
    "execution": {
     "iopub.execute_input": "2025-02-11T16:13:34.109753Z",
     "iopub.status.busy": "2025-02-11T16:13:34.109422Z",
     "iopub.status.idle": "2025-02-11T16:13:34.205721Z",
     "shell.execute_reply": "2025-02-11T16:13:34.204573Z",
     "shell.execute_reply.started": "2025-02-11T16:13:34.109725Z"
    },
    "trusted": true
   },
   "outputs": [],
   "source": [
    "test.isna().sum()"
   ]
  },
  {
   "cell_type": "code",
   "execution_count": null,
   "metadata": {
    "execution": {
     "iopub.execute_input": "2025-02-11T16:13:34.207109Z",
     "iopub.status.busy": "2025-02-11T16:13:34.206767Z",
     "iopub.status.idle": "2025-02-11T16:13:34.219427Z",
     "shell.execute_reply": "2025-02-11T16:13:34.218237Z",
     "shell.execute_reply.started": "2025-02-11T16:13:34.20708Z"
    },
    "trusted": true
   },
   "outputs": [],
   "source": [
    "submission"
   ]
  },
  {
   "cell_type": "markdown",
   "metadata": {},
   "source": [
    "## Data Preprocessing\n",
    " \n",
    "### Remove Unnecessary Columns\n",
    "The 'id' column is dropped as it's not needed for modeling when using pandas DataFrames. This column is just an identifier and doesn't contribute to the prediction task."
   ]
  },
  {
   "cell_type": "code",
   "execution_count": 48,
   "metadata": {
    "execution": {
     "iopub.execute_input": "2025-02-11T16:13:34.221061Z",
     "iopub.status.busy": "2025-02-11T16:13:34.22066Z",
     "iopub.status.idle": "2025-02-11T16:13:34.274902Z",
     "shell.execute_reply": "2025-02-11T16:13:34.273806Z",
     "shell.execute_reply.started": "2025-02-11T16:13:34.221031Z"
    },
    "trusted": true
   },
   "outputs": [],
   "source": [
    "train.drop('id', axis=1, inplace=True)\n",
    "test.drop('id', axis=1, inplace=True)"
   ]
  },
  {
   "cell_type": "markdown",
   "metadata": {},
   "source": [
    "## Exploratory Data Analysis (EDA)\n",
    "### Analyze Training Data\n",
    "We'll examine:\n",
    "- Distribution of categorical variables\n",
    "- Feature relationships\n",
    "- Missing values\n",
    "- Data quality issues"
   ]
  },
  {
   "cell_type": "code",
   "execution_count": null,
   "metadata": {},
   "outputs": [],
   "source": [
    "print('Training Data Shape:', train.shape)\n",
    "\n",
    "print('\\nTest Data Shape:', test.shape)"
   ]
  },
  {
   "cell_type": "markdown",
   "metadata": {},
   "source": [
    "## Target Variable Analysis\n",
    " \n",
    "### Examine Price Distribution\n",
    "Understanding the distribution of our target variable (Price) is crucial for:\n",
    "- Detecting potential outliers\n",
    "- Identifying if transformations are needed\n",
    "- Validating model assumptions"
   ]
  },
  {
   "cell_type": "code",
   "execution_count": null,
   "metadata": {
    "execution": {
     "iopub.execute_input": "2025-02-11T16:13:34.27633Z",
     "iopub.status.busy": "2025-02-11T16:13:34.275974Z",
     "iopub.status.idle": "2025-02-11T16:13:34.385123Z",
     "shell.execute_reply": "2025-02-11T16:13:34.384163Z",
     "shell.execute_reply.started": "2025-02-11T16:13:34.276303Z"
    },
    "trusted": true
   },
   "outputs": [],
   "source": [
    "for col in train:\n",
    "    if train[col].dtype == 'object':\n",
    "        print(col,train[col].unique() )"
   ]
  },
  {
   "cell_type": "code",
   "execution_count": null,
   "metadata": {
    "execution": {
     "iopub.execute_input": "2025-02-11T16:13:34.386438Z",
     "iopub.status.busy": "2025-02-11T16:13:34.386125Z",
     "iopub.status.idle": "2025-02-11T16:13:34.615906Z",
     "shell.execute_reply": "2025-02-11T16:13:34.614725Z",
     "shell.execute_reply.started": "2025-02-11T16:13:34.386414Z"
    },
    "trusted": true
   },
   "outputs": [],
   "source": [
    "plt.hist(train['Brand'])\n",
    "plt.show()"
   ]
  },
  {
   "cell_type": "code",
   "execution_count": null,
   "metadata": {
    "execution": {
     "iopub.execute_input": "2025-02-11T16:13:34.617536Z",
     "iopub.status.busy": "2025-02-11T16:13:34.617186Z",
     "iopub.status.idle": "2025-02-11T16:13:34.838311Z",
     "shell.execute_reply": "2025-02-11T16:13:34.837083Z",
     "shell.execute_reply.started": "2025-02-11T16:13:34.617507Z"
    },
    "trusted": true
   },
   "outputs": [],
   "source": [
    "plt.hist(train['Material'])\n",
    "plt.show()"
   ]
  },
  {
   "cell_type": "code",
   "execution_count": null,
   "metadata": {
    "execution": {
     "iopub.execute_input": "2025-02-11T16:13:34.839928Z",
     "iopub.status.busy": "2025-02-11T16:13:34.839491Z",
     "iopub.status.idle": "2025-02-11T16:13:35.044811Z",
     "shell.execute_reply": "2025-02-11T16:13:35.043588Z",
     "shell.execute_reply.started": "2025-02-11T16:13:34.839889Z"
    },
    "trusted": true
   },
   "outputs": [],
   "source": [
    "plt.hist(train['Size'])\n",
    "plt.show()"
   ]
  },
  {
   "cell_type": "code",
   "execution_count": null,
   "metadata": {
    "execution": {
     "iopub.execute_input": "2025-02-11T16:13:35.046578Z",
     "iopub.status.busy": "2025-02-11T16:13:35.046133Z",
     "iopub.status.idle": "2025-02-11T16:13:35.257544Z",
     "shell.execute_reply": "2025-02-11T16:13:35.256468Z",
     "shell.execute_reply.started": "2025-02-11T16:13:35.046536Z"
    },
    "trusted": true
   },
   "outputs": [],
   "source": [
    "plt.hist(train['Laptop Compartment'])\n",
    "plt.show()"
   ]
  },
  {
   "cell_type": "code",
   "execution_count": null,
   "metadata": {
    "execution": {
     "iopub.execute_input": "2025-02-11T16:13:35.258897Z",
     "iopub.status.busy": "2025-02-11T16:13:35.258524Z",
     "iopub.status.idle": "2025-02-11T16:13:35.464021Z",
     "shell.execute_reply": "2025-02-11T16:13:35.462852Z",
     "shell.execute_reply.started": "2025-02-11T16:13:35.258861Z"
    },
    "trusted": true
   },
   "outputs": [],
   "source": [
    "plt.hist(train['Waterproof'])\n",
    "plt.show()"
   ]
  },
  {
   "cell_type": "code",
   "execution_count": null,
   "metadata": {
    "execution": {
     "iopub.execute_input": "2025-02-11T16:13:35.465721Z",
     "iopub.status.busy": "2025-02-11T16:13:35.465367Z",
     "iopub.status.idle": "2025-02-11T16:13:35.686235Z",
     "shell.execute_reply": "2025-02-11T16:13:35.685048Z",
     "shell.execute_reply.started": "2025-02-11T16:13:35.465691Z"
    },
    "trusted": true
   },
   "outputs": [],
   "source": [
    "plt.hist(train['Style'])\n",
    "plt.show()"
   ]
  },
  {
   "cell_type": "code",
   "execution_count": null,
   "metadata": {
    "execution": {
     "iopub.execute_input": "2025-02-11T16:13:35.687849Z",
     "iopub.status.busy": "2025-02-11T16:13:35.687481Z",
     "iopub.status.idle": "2025-02-11T16:13:35.919282Z",
     "shell.execute_reply": "2025-02-11T16:13:35.91817Z",
     "shell.execute_reply.started": "2025-02-11T16:13:35.687812Z"
    },
    "trusted": true
   },
   "outputs": [],
   "source": [
    "plt.hist(train['Color'], bins=6, rwidth=0.8)\n",
    "plt.show()"
   ]
  },
  {
   "cell_type": "code",
   "execution_count": null,
   "metadata": {
    "execution": {
     "iopub.execute_input": "2025-02-11T16:13:35.920561Z",
     "iopub.status.busy": "2025-02-11T16:13:35.920258Z",
     "iopub.status.idle": "2025-02-11T16:13:37.225351Z",
     "shell.execute_reply": "2025-02-11T16:13:37.224308Z",
     "shell.execute_reply.started": "2025-02-11T16:13:35.920537Z"
    },
    "trusted": true
   },
   "outputs": [],
   "source": [
    "sns.displot(train['Price'], kde=True)"
   ]
  },
  {
   "cell_type": "markdown",
   "metadata": {},
   "source": [
    "### Handle Null Values in Test Set\n",
    "Strategy:\n",
    "- Categorical variables: Replace with 'not listed'\n",
    "- Numerical variables: Replace with -1\n",
    "\n"
   ]
  },
  {
   "cell_type": "code",
   "execution_count": null,
   "metadata": {
    "execution": {
     "iopub.execute_input": "2025-02-11T16:13:37.226802Z",
     "iopub.status.busy": "2025-02-11T16:13:37.226515Z",
     "iopub.status.idle": "2025-02-11T16:13:37.401058Z",
     "shell.execute_reply": "2025-02-11T16:13:37.399983Z",
     "shell.execute_reply.started": "2025-02-11T16:13:37.226772Z"
    },
    "trusted": true
   },
   "outputs": [],
   "source": [
    "for col in test:\n",
    "    if test[col].dtype == 'object':\n",
    "        test[col] = test[col].fillna('not listed')\n",
    "    if test[col].dtype == 'int' or test[col].dtype == 'float':\n",
    "        test[col] = test[col].fillna(-1)\n",
    "\n",
    "test.isna().sum().sum()"
   ]
  },
  {
   "cell_type": "markdown",
   "metadata": {},
   "source": [
    "## Feature Engineering\n",
    "\n",
    "### Encode Categorical Variables\n",
    " Using OrdinalEncoder to convert categorical variables to numerical format:\n",
    "- Handles unknown categories in test set\n",
    "- Maintains consistency between train and test data\n",
    "- Enables model to process categorical features"
   ]
  },
  {
   "cell_type": "code",
   "execution_count": 60,
   "metadata": {
    "execution": {
     "iopub.execute_input": "2025-02-11T16:13:37.402399Z",
     "iopub.status.busy": "2025-02-11T16:13:37.402042Z",
     "iopub.status.idle": "2025-02-11T16:13:38.465444Z",
     "shell.execute_reply": "2025-02-11T16:13:38.464666Z",
     "shell.execute_reply.started": "2025-02-11T16:13:37.402372Z"
    },
    "trusted": true
   },
   "outputs": [],
   "source": [
    "enc = OrdinalEncoder(handle_unknown='use_encoded_value', unknown_value=-1)\n",
    "\n",
    "for col in train:\n",
    "    if train[col].dtype == 'object':\n",
    "        train[col] = enc.fit_transform(train[col].values.reshape(-1,1))\n",
    "        test[col] = enc.transform(test[col].values.reshape(-1,1))\n"
   ]
  },
  {
   "cell_type": "code",
   "execution_count": null,
   "metadata": {
    "execution": {
     "iopub.execute_input": "2025-02-11T16:13:38.469266Z",
     "iopub.status.busy": "2025-02-11T16:13:38.468981Z",
     "iopub.status.idle": "2025-02-11T16:13:38.489407Z",
     "shell.execute_reply": "2025-02-11T16:13:38.488509Z",
     "shell.execute_reply.started": "2025-02-11T16:13:38.469242Z"
    },
    "trusted": true
   },
   "outputs": [],
   "source": [
    "train.info()"
   ]
  },
  {
   "cell_type": "code",
   "execution_count": null,
   "metadata": {
    "execution": {
     "iopub.execute_input": "2025-02-11T16:13:38.491238Z",
     "iopub.status.busy": "2025-02-11T16:13:38.490862Z",
     "iopub.status.idle": "2025-02-11T16:13:38.507587Z",
     "shell.execute_reply": "2025-02-11T16:13:38.506558Z",
     "shell.execute_reply.started": "2025-02-11T16:13:38.491212Z"
    },
    "trusted": true
   },
   "outputs": [],
   "source": [
    "test.info()"
   ]
  },
  {
   "cell_type": "markdown",
   "metadata": {},
   "source": [
    "#### Define dependent and independent variables"
   ]
  },
  {
   "cell_type": "code",
   "execution_count": 63,
   "metadata": {
    "execution": {
     "iopub.execute_input": "2025-02-11T16:13:38.509369Z",
     "iopub.status.busy": "2025-02-11T16:13:38.50898Z",
     "iopub.status.idle": "2025-02-11T16:13:38.514224Z",
     "shell.execute_reply": "2025-02-11T16:13:38.513116Z",
     "shell.execute_reply.started": "2025-02-11T16:13:38.509334Z"
    },
    "trusted": true
   },
   "outputs": [],
   "source": [
    "y = train.pop('Price')\n",
    "X = train\n",
    "X_test = test"
   ]
  },
  {
   "cell_type": "markdown",
   "metadata": {},
   "source": [
    "#### Split into training and validating sets"
   ]
  },
  {
   "cell_type": "code",
   "execution_count": null,
   "metadata": {
    "execution": {
     "iopub.execute_input": "2025-02-11T16:13:38.515658Z",
     "iopub.status.busy": "2025-02-11T16:13:38.515417Z",
     "iopub.status.idle": "2025-02-11T16:13:38.572829Z",
     "shell.execute_reply": "2025-02-11T16:13:38.571687Z",
     "shell.execute_reply.started": "2025-02-11T16:13:38.515637Z"
    },
    "trusted": true
   },
   "outputs": [],
   "source": [
    "X_train, X_val, y_train, y_val = train_test_split( X, y, test_size=0.1, shuffle=True, random_state=42)\n",
    "X_train.shape, y_train.shape, X_val.shape, y_val.shape, X_test.shape"
   ]
  },
  {
   "cell_type": "markdown",
   "metadata": {},
   "source": [
    "## Model Definition and Training\n",
    "\n",
    "### Initialize and Train the Models\n",
    "\n",
    "We're comparing several regression models:\n",
    "\n",
    "Linear Models:\n",
    "- Linear Regression (baseline)\n",
    "- Ridge regression (L2 regularization)\n",
    "- Lasso regression (L1 regularization)\n",
    "- ElasticNet (combines L1 and L2 regularization)\n",
    "  - Helps prevent overfitting and handles multicollinearity\n",
    "\n",
    "Advanced Models:\n",
    "- Random Forest (ensemble learning with decision trees)\n",
    "- Support Vector Regression (SVR with RBF kernel)\n",
    "- Gradient Boosting (sequential ensemble learning)\n",
    "- XGBoost (optimized gradient boosting implementation)\n",
    "- Neural Network (MLP with 2 hidden layers: 100 and 50 neurons)"
   ]
  },
  {
   "cell_type": "code",
   "execution_count": null,
   "metadata": {},
   "outputs": [],
   "source": [
    "from sklearn.linear_model import LinearRegression, Ridge, Lasso\n",
    "from sklearn.ensemble import RandomForestRegressor\n",
    "from sklearn.metrics import mean_squared_error\n",
    "import numpy as np\n",
    "\n",
    "# Initialize different models\n",
    "models = {\n",
    "    'Linear Regression': LinearRegression(),\n",
    "    'Ridge': Ridge(alpha=1.0),\n",
    "    'Lasso': Lasso(alpha=1.0),\n",
    "    'Random Forest': RandomForestRegressor(n_estimators=100, random_state=42),\n",
    "    'ElasticNet': ElasticNet(random_state=42)\n",
    "}\n",
    "\n",
    "# Train and evaluate each model\n",
    "results = {}\n",
    "for name, model in models.items():\n",
    "    # Train the model\n",
    "    model.fit(X_train, y_train)\n",
    "    \n",
    "    # Make predictions\n",
    "    y_pred = model.predict(X_val)\n",
    "    \n",
    "    # Calculate RMSE\n",
    "    mse = mean_squared_error(y_val, y_pred)\n",
    "    rmse = np.sqrt(mse)\n",
    "    results[name] = rmse\n",
    "\n",
    "# Display results\n",
    "for name, rmse in results.items():\n",
    "    print(f'{name} RMSE: {rmse:.2f}')\n",
    "\n",
    "# Visualize results\n",
    "import matplotlib.pyplot as plt\n",
    "\n",
    "plt.figure(figsize=(10, 6))\n",
    "plt.bar(results.keys(), results.values())\n",
    "plt.title('Model Comparison - RMSE Scores')\n",
    "plt.xticks(rotation=45)\n",
    "plt.ylabel('RMSE')\n",
    "plt.tight_layout()\n",
    "plt.show()"
   ]
  },
  {
   "cell_type": "code",
   "execution_count": null,
   "metadata": {},
   "outputs": [],
   "source": [
    "# Initialize different models\n",
    "models = {\n",
    "    'Support Vector Regression': SVR(kernel='rbf'),\n",
    "    'Gradient Boosting': GradientBoostingRegressor(n_estimators=100, random_state=42),\n",
    "    'XGBoost': xgb.XGBRegressor(n_estimators=100, random_state=42),\n",
    "    'Neural Network': MLPRegressor(hidden_layer_sizes=(100, 50), max_iter=500, random_state=42)\n",
    "}\n",
    "\n",
    "# Train and evaluate each model\n",
    "results = {}\n",
    "for name, model in models.items():\n",
    "    # Train the model\n",
    "    model.fit(X_train, y_train)\n",
    "    \n",
    "    # Make predictions\n",
    "    y_pred = model.predict(X_val)\n",
    "    \n",
    "    # Calculate RMSE and R2\n",
    "    rmse = np.sqrt(mean_squared_error(y_val, y_pred))\n",
    "    results[name] = {'RMSE': rmse}\n",
    "\n",
    "# Display results\n",
    "for name, metrics in results.items():\n",
    "    print(f'{name}:')\n",
    "    print(f'  RMSE: {metrics[\"RMSE\"]:.2f}')\n",
    "\n",
    "# Visualize RMSE results\n",
    "plt.figure(figsize=(12, 6))\n",
    "plt.bar([name for name in results.keys()], [metrics['RMSE'] for metrics in results.values()])\n",
    "plt.title('Model Comparison - RMSE Scores')\n",
    "plt.xticks(rotation=45)\n",
    "plt.ylabel('RMSE')\n",
    "plt.tight_layout()\n",
    "plt.show()"
   ]
  },
  {
   "cell_type": "code",
   "execution_count": null,
   "metadata": {
    "execution": {
     "iopub.execute_input": "2025-02-11T16:13:38.574331Z",
     "iopub.status.busy": "2025-02-11T16:13:38.573965Z",
     "iopub.status.idle": "2025-02-11T16:13:38.637834Z",
     "shell.execute_reply": "2025-02-11T16:13:38.636491Z",
     "shell.execute_reply.started": "2025-02-11T16:13:38.574289Z"
    },
    "trusted": true
   },
   "outputs": [],
   "source": [
    "model = GradientBoostingRegressor(n_estimators=100, random_state=42).fit(X_train, y_train)\n",
    "model.score(X_train, y_train)"
   ]
  },
  {
   "cell_type": "code",
   "execution_count": null,
   "metadata": {
    "execution": {
     "iopub.execute_input": "2025-02-11T16:13:38.639428Z",
     "iopub.status.busy": "2025-02-11T16:13:38.639061Z",
     "iopub.status.idle": "2025-02-11T16:13:38.650368Z",
     "shell.execute_reply": "2025-02-11T16:13:38.649119Z",
     "shell.execute_reply.started": "2025-02-11T16:13:38.639398Z"
    },
    "trusted": true
   },
   "outputs": [],
   "source": [
    "y_pred = model.predict(X_val)\n",
    "y_pred"
   ]
  },
  {
   "cell_type": "code",
   "execution_count": null,
   "metadata": {
    "execution": {
     "iopub.execute_input": "2025-02-11T16:13:38.673511Z",
     "iopub.status.busy": "2025-02-11T16:13:38.673184Z",
     "iopub.status.idle": "2025-02-11T16:13:38.695457Z",
     "shell.execute_reply": "2025-02-11T16:13:38.694441Z",
     "shell.execute_reply.started": "2025-02-11T16:13:38.673486Z"
    },
    "trusted": true
   },
   "outputs": [],
   "source": [
    "df = pd.DataFrame({'y_val':y_val, 'y_pred':y_pred})\n",
    "df"
   ]
  },
  {
   "cell_type": "code",
   "execution_count": null,
   "metadata": {
    "execution": {
     "iopub.execute_input": "2025-02-11T16:13:38.69694Z",
     "iopub.status.busy": "2025-02-11T16:13:38.696556Z",
     "iopub.status.idle": "2025-02-11T16:13:38.95712Z",
     "shell.execute_reply": "2025-02-11T16:13:38.955846Z",
     "shell.execute_reply.started": "2025-02-11T16:13:38.696905Z"
    },
    "trusted": true
   },
   "outputs": [],
   "source": [
    "stats.probplot(y_pred, dist=\"norm\", plot=pylab)\n",
    "pylab.show()"
   ]
  },
  {
   "cell_type": "code",
   "execution_count": null,
   "metadata": {
    "execution": {
     "iopub.execute_input": "2025-02-11T16:13:38.958637Z",
     "iopub.status.busy": "2025-02-11T16:13:38.958307Z",
     "iopub.status.idle": "2025-02-11T16:13:39.198962Z",
     "shell.execute_reply": "2025-02-11T16:13:39.197644Z",
     "shell.execute_reply.started": "2025-02-11T16:13:38.958596Z"
    },
    "trusted": true
   },
   "outputs": [],
   "source": [
    "fig, ax = plt.subplots()\n",
    "ax.scatter(y_val, y_pred, edgecolors=(0, 0, 0))\n",
    "ax.plot([y.min(), y.max()], [y.min(), y.max()], 'k--', lw=4)\n",
    "ax.set_xlabel('Measured')\n",
    "ax.set_ylabel('Predicted')\n",
    "plt.show()"
   ]
  },
  {
   "cell_type": "markdown",
   "metadata": {},
   "source": [
    " ## Model Evaluation\n",
    " \n",
    " ### Generate Predictions and Calculate Metrics\n",
    " - Make predictions on validation set\n",
    " - Calculate RMSE and model score\n",
    " - Evaluate model performance"
   ]
  },
  {
   "cell_type": "code",
   "execution_count": null,
   "metadata": {
    "execution": {
     "iopub.execute_input": "2025-02-11T16:13:39.200288Z",
     "iopub.status.busy": "2025-02-11T16:13:39.199952Z",
     "iopub.status.idle": "2025-02-11T16:13:39.219915Z",
     "shell.execute_reply": "2025-02-11T16:13:39.218713Z",
     "shell.execute_reply.started": "2025-02-11T16:13:39.200259Z"
    },
    "trusted": true
   },
   "outputs": [],
   "source": [
    "pred = model.predict(X_test)\n",
    "pred"
   ]
  },
  {
   "cell_type": "markdown",
   "metadata": {},
   "source": [
    "## Generate Test Predictions and Create Submission\n",
    " \n",
    " ### Format and Save Predictions\n",
    "  1. Generate predictions for test set\n",
    " 2. Format according to submission template\n",
    " 3. Save to CSV file for submission"
   ]
  },
  {
   "cell_type": "code",
   "execution_count": null,
   "metadata": {
    "execution": {
     "iopub.execute_input": "2025-02-11T16:13:39.221816Z",
     "iopub.status.busy": "2025-02-11T16:13:39.221364Z",
     "iopub.status.idle": "2025-02-11T16:13:39.714359Z",
     "shell.execute_reply": "2025-02-11T16:13:39.713296Z",
     "shell.execute_reply.started": "2025-02-11T16:13:39.22177Z"
    },
    "trusted": true
   },
   "outputs": [],
   "source": [
    "\n",
    "submission['Price'] = pred\n",
    "submission.to_csv('submission.csv', index=False)\n",
    "submission = pd.read_csv('submission.csv')\n",
    "submission"
   ]
  }
 ],
 "metadata": {
  "kaggle": {
   "accelerator": "none",
   "dataSources": [
    {
     "databundleVersionId": 10995111,
     "sourceId": 90274,
     "sourceType": "competition"
    }
   ],
   "dockerImageVersionId": 30886,
   "isGpuEnabled": false,
   "isInternetEnabled": true,
   "language": "python",
   "sourceType": "notebook"
  },
  "kernelspec": {
   "display_name": "Python 3",
   "language": "python",
   "name": "python3"
  },
  "language_info": {
   "codemirror_mode": {
    "name": "ipython",
    "version": 3
   },
   "file_extension": ".py",
   "mimetype": "text/x-python",
   "name": "python",
   "nbconvert_exporter": "python",
   "pygments_lexer": "ipython3",
   "version": "3.13.2"
  }
 },
 "nbformat": 4,
 "nbformat_minor": 4
}
